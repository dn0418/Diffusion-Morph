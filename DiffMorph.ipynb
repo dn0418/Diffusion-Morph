{
  "nbformat": 4,
  "nbformat_minor": 0,
  "metadata": {
    "colab": {
      "name": "DiffMorph.ipynb",
      "provenance": [],
      "private_outputs": true
    },
    "kernelspec": {
      "name": "python3",
      "display_name": "Python 3"
    },
    "language_info": {
      "name": "python"
    },
    "accelerator": "GPU"
  },
  "cells": [
    {
      "cell_type": "markdown",
      "source": [
        "# Differentiable Morphing\n",
        "\n",
        "Image morphing without reference points by applying warp maps and optimizing over them.\n",
        "Differentiable Morphing is machine learning algorithm that can morph any two images without reference points. It called \"differentiable morphing\" because neural network here is not used in traditional data to label mapping sense, but as an easy way to solve optimization problem where one image is mapped to another via warp maps that are found by gradient descent. So after maps are found there is no need for the network itself.\n",
        "\n",
        "See the code: https://github.com/volotat/DiffMorph\n",
        "\n",
        "## Results\n",
        "<img src=\"https://github.com/volotat/DiffMorph/raw/master/images/example_1.gif\" />\n",
        "<img src=\"https://github.com/volotat/DiffMorph/raw/master/images/example_2.gif\" />\n",
        "<img src=\"https://github.com/volotat/DiffMorph/raw/master/images/example_3.gif\" />\n"
      ],
      "metadata": {
        "id": "dz-saTU_wOX9"
      }
    },
    {
      "cell_type": "code",
      "execution_count": null,
      "metadata": {
        "id": "1rMdGE8uZiMf",
        "cellView": "form"
      },
      "outputs": [],
      "source": [
        "#@title Step 1: Load pre-requisites\n",
        "!git clone https://github.com/volotat/DiffMorph\n",
        "%cd DiffMorph\n",
        "!pip install -r requirements.txt\n",
        "!mkdir input\n",
        "!mkdir output\n",
        "\n",
        "import os"
      ]
    },
    {
      "cell_type": "markdown",
      "source": [
        "### Step 2: Add images to the \"DiffMorph/input\" directory."
      ],
      "metadata": {
        "id": "51Di28Zhf1x1"
      }
    },
    {
      "cell_type": "code",
      "source": [
        "#@title Step 3: Set parameters and run code\n",
        "#@markdown This step might take a long time.\n",
        "image_list = [file for file in os.listdir('input') if not file.startswith('.')]\n",
        "image_list.sort()\n",
        "epochs = 1000 #@param {type:\"number\"}\n",
        "warp_scale = 0.05 #@param {type:\"number\"}\n",
        "mult_scale = 0.4 #@param {type:\"number\"}\n",
        "add_scale = 0.4 #@param {type:\"number\"}\n",
        "add_first = False #@param {type:\"boolean\"}\n",
        "filenames = []\n",
        "for i in range(len(image_list) - 1):\n",
        "    start = f'input/{image_list[i]}'\n",
        "    end = f'input/{image_list[i+1]}'\n",
        "    if add_first:\n",
        "        !python morph.py -s $start -t $end -e $epochs -a $add_scale -m $mult_scale -w $warp_scale --add_first\n",
        "    else:\n",
        "        !python morph.py -s $start -t $end -e $epochs -a $add_scale -m $mult_scale -w $warp_scale\n",
        "    filename = f'output/morph{i:03d}.mp4'\n",
        "    filenames.append(filename)\n",
        "    !mv /content/DiffMorph/morph/morph.mp4 $filename"
      ],
      "metadata": {
        "id": "YCdADJhoaBxa",
        "cellView": "form"
      },
      "execution_count": null,
      "outputs": []
    },
    {
      "cell_type": "code",
      "source": [
        "#@title Step 4: Join videos together\n",
        "with open('filenames.txt', 'w') as f:\n",
        "    f.write('\\n'.join([f\"file '{filename}'\" for filename in filenames]))\n",
        "!ffmpeg -f concat -i filenames.txt -codec copy output/final.mp4"
      ],
      "metadata": {
        "id": "kkRXLpqqiJd0",
        "cellView": "form"
      },
      "execution_count": null,
      "outputs": []
    },
    {
      "cell_type": "code",
      "source": [
        "# @title Step 5: Download video\n",
        "#@markdown Note: this cell will only work if you are running this notebook in Google colab. Otherwise, locate the final output in DiffMorph/output/final.mp4\n",
        "\n",
        "from google.colab import files\n",
        "files.download('/content/DiffMorph/output/final.mp4')"
      ],
      "metadata": {
        "cellView": "form",
        "id": "Agg1lacb0D81"
      },
      "execution_count": null,
      "outputs": []
    }
  ]
}